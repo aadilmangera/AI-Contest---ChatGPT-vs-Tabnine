{
 "cells": [
  {
   "cell_type": "markdown",
   "source": [
    "# Test on ChatGPT\n",
    "\n",
    "## Testing Protocol\n",
    "\n",
    "### Querying\n",
    "- Before asking the AI on a different problem, you must reset the AI system.\n",
    "- You must record all prompts and responses.\n",
    "- First Prompt: Directly Copy and paste the question in to the AI, if code is provided, run it to check if it provides the correct answer. If no code is provided, ask for the code\n",
    "- Second Prompt: If the code doesn't work, say: \"not working\", again run the code.\n",
    "- Third Prompt: If the answer is not correct, tell the AI for a certain prompt, the correct answer is:\n",
    "- Any time the AI doesn't provide code, ask for it\n",
    "- Any time the the code ai provides crashes, provide stack track to AI to let get it fixed\n",
    "- If code is provided, run it on to check if it provides the correct answer\n",
    "- If the correct answer is not provided, you may only say - Not Working\n",
    "- Response can be edited for better readibility\n",
    "### Prompt - 1. Direct Input\n",
    "\n",
    "### Response\n",
    "### Prompt - 2. \"not working\"\n",
    "not working\n",
    "### Response\n",
    "\n",
    "### Prompt - 3. For input, the output should be...\n",
    "\n",
    "### Response"
   ],
   "metadata": {
    "collapsed": false
   }
  },
  {
   "cell_type": "code",
   "execution_count": null,
   "outputs": [],
   "source": [],
   "metadata": {
    "collapsed": false
   }
  }
 ],
 "metadata": {
  "kernelspec": {
   "display_name": "Python 3",
   "language": "python",
   "name": "python3"
  },
  "language_info": {
   "codemirror_mode": {
    "name": "ipython",
    "version": 2
   },
   "file_extension": ".py",
   "mimetype": "text/x-python",
   "name": "python",
   "nbconvert_exporter": "python",
   "pygments_lexer": "ipython2",
   "version": "2.7.6"
  }
 },
 "nbformat": 4,
 "nbformat_minor": 0
}
