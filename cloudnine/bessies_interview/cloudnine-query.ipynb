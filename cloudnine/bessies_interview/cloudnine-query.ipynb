{
 "cells": [
  {
   "cell_type": "markdown",
   "metadata": {},
   "source": [
    "# Test on Cloud 9\n",
    "\n",
    "## Testing Protocol\n",
    "\n",
    "### Querying\n",
    "- Before asking the AI on a different problem, you must reset the AI system.\n",
    "- You must record all prompts and responses.\n",
    "- For the first question, add \"solve this in python\", next line, then directly copy and paste the question in to the AI system.\n",
    "- If code is provided, run it on to check if it provides the correct answer\n",
    "- If the correct answer is not provided, you may only say - Not Working\n",
    "- Turn off the option to use the workspace (Feature of Cloudnine is to include the projects code in the result)\n",
    "- Response can be edited for better readibility"
   ]
  }
 ],
 "metadata": {
  "kernelspec": {
   "display_name": "COMP-5313-Project",
   "language": "python",
   "name": "python3"
  },
  "language_info": {
   "codemirror_mode": {
    "name": "ipython",
    "version": 3
   },
   "file_extension": ".py",
   "mimetype": "text/x-python",
   "name": "python",
   "nbconvert_exporter": "python",
   "pygments_lexer": "ipython3",
   "version": "3.12.7"
  }
 },
 "nbformat": 4,
 "nbformat_minor": 2
}
